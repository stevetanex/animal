{
  "nbformat": 4,
  "nbformat_minor": 0,
  "metadata": {
    "colab": {
      "provenance": [],
      "authorship_tag": "ABX9TyP/L0uS8mN09+jbkp0SVSHu",
      "include_colab_link": true
    },
    "kernelspec": {
      "name": "python3",
      "display_name": "Python 3"
    },
    "language_info": {
      "name": "python"
    }
  },
  "cells": [
    {
      "cell_type": "markdown",
      "metadata": {
        "id": "view-in-github",
        "colab_type": "text"
      },
      "source": [
        "<a href=\"https://colab.research.google.com/github/stevetanex/animal/blob/main/Untitled1.ipynb\" target=\"_parent\"><img src=\"https://colab.research.google.com/assets/colab-badge.svg\" alt=\"Open In Colab\"/></a>"
      ]
    },
    {
      "cell_type": "markdown",
      "source": [
        "**Women Cloth Reviews Prediction with Multi Noimal Naviie Bayes**"
      ],
      "metadata": {
        "id": "W7tUUt_DsvGE"
      }
    },
    {
      "cell_type": "markdown",
      "source": [
        "The multinomial Navie Bayes classifier is suitable for classification with discrete features(e.g.,word counts for text classification).The multinomail distribution normally requries integer feature counts.However, in practice,fractional counts  such as tf-idf may also work.  "
      ],
      "metadata": {
        "id": "TlO2GBcANNQm"
      }
    },
    {
      "cell_type": "markdown",
      "source": [
        "**import library**"
      ],
      "metadata": {
        "id": "bdeA86grOkNk"
      }
    },
    {
      "cell_type": "code",
      "source": [],
      "metadata": {
        "id": "EifqaaGZPSbS"
      },
      "execution_count": null,
      "outputs": []
    },
    {
      "cell_type": "code",
      "source": [],
      "metadata": {
        "id": "rxgfqHKtOtoV"
      },
      "execution_count": null,
      "outputs": []
    }
  ]
}